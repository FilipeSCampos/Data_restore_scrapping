{
  "cells": [
    {
      "cell_type": "markdown",
      "metadata": {
        "id": "view-in-github",
        "colab_type": "text"
      },
      "source": [
        "<a href=\"https://colab.research.google.com/github/FilipeSCampos/Data_restore_scrapping/blob/main/Trabalho_Web_Scrapping_certo.ipynb\" target=\"_parent\"><img src=\"https://colab.research.google.com/assets/colab-badge.svg\" alt=\"Open In Colab\"/></a>"
      ]
    },
    {
      "cell_type": "code",
      "source": [
        "from bs4 import BeautifulSoup\n",
        "import requests\n",
        "HTMLFileToBeOpened = open(\"Etherium_Data_24_20.html\", \"r\")\n",
        "mainpage = HTMLFileToBeOpened.read()\n",
        "soup = BeautifulSoup(mainpage, 'lxml')\n"
      ],
      "metadata": {
        "id": "P0yfyNt-Qm4g"
      },
      "execution_count": null,
      "outputs": []
    },
    {
      "cell_type": "markdown",
      "source": [
        "#Duas formas de fazer webscraping uma baixando o html da pagina (Muito mais facil) e outra do jeito comum em request"
      ],
      "metadata": {
        "id": "irVeF_CRkk6P"
      }
    },
    {
      "cell_type": "code",
      "source": [
        "print(soup.find('tbody'))\n"
      ],
      "metadata": {
        "id": "Pu69I4aiScrA"
      },
      "execution_count": null,
      "outputs": []
    },
    {
      "cell_type": "code",
      "source": [
        "#ocultado pq é grande pra caramba"
      ],
      "metadata": {
        "id": "JRG2kAw0oOlx"
      },
      "execution_count": null,
      "outputs": []
    },
    {
      "cell_type": "markdown",
      "source": [
        "#Olhando o cod html na pagina da pra ver que os valores estao dentro da <tbody>"
      ],
      "metadata": {
        "id": "Iy7LiG8lk47_"
      }
    },
    {
      "cell_type": "code",
      "source": [
        "# primeira coluna\n",
        "print(soup.find('tbody').find_all('td')[0].prettify())\n",
        "# segunda coluna\n",
        "print(soup.find('tbody').find_all('td')[1].prettify())\n",
        "for col in range (7):\n",
        "    print(soup.find('tbody').find_all('td')[col].prettify())"
      ],
      "metadata": {
        "id": "rAMsybUySijn"
      },
      "execution_count": null,
      "outputs": []
    },
    {
      "cell_type": "markdown",
      "source": [
        "#Tendo Certeza que ta tudo certo"
      ],
      "metadata": {
        "id": "Bo803vKMlCN_"
      }
    },
    {
      "cell_type": "code",
      "source": [
        "# vendo as 7 primeiras colunas em 3 dias\n",
        "for row in range(3):\n",
        "    for col in range(7):\n",
        "        print(soup.find('tbody').find_all('td')[row*7+col].text.strip())\n",
        "    print()"
      ],
      "metadata": {
        "id": "Phu3a4t2SnZn"
      },
      "execution_count": null,
      "outputs": []
    },
    {
      "cell_type": "markdown",
      "source": [
        "#Transformando em DataFrame"
      ],
      "metadata": {
        "id": "E5c_ZMaSlFR3"
      }
    },
    {
      "cell_type": "code",
      "source": [
        "import pandas as pd\n",
        "from datetime import datetime, timedelta\n",
        "\n",
        "# Definir o intervalo de datas desejado (três anos atrás até a data atual)\n",
        "end_date = datetime.now()\n",
        "start_date = end_date - timedelta(days=365 * 3)\n",
        "\n",
        "# Inicializa listas para armazenar os dados\n",
        "dates = []\n",
        "prices = []\n",
        "\n",
        "# Itera sobre as linhas correspondentes ao intervalo de datas desejado\n",
        "rows = soup.find('tbody').find_all('tr')\n",
        "for row in rows:\n",
        "    # Extrai a data e o preço das três primeiras colunas\n",
        "    cols = row.find_all('td')\n",
        "    date_str = cols[0].text.strip()\n",
        "    price = cols[1].text.strip()\n",
        "\n",
        "    # Converte a string de data para objeto datetime\n",
        "    date = datetime.strptime(date_str, '%b %d, %Y')\n",
        "\n",
        "    # Verifica se a data está dentro do intervalo desejado\n",
        "    if start_date <= date <= end_date:\n",
        "        # Adiciona os dados às listas\n",
        "        dates.append(date)\n",
        "        prices.append(price)\n",
        "\n",
        "# Cria um DataFrame com os dados coletados\n",
        "df = pd.DataFrame({'Date': dates, 'Price': prices})\n",
        "\n"
      ],
      "metadata": {
        "id": "VPZEI1Eljcyy"
      },
      "execution_count": null,
      "outputs": []
    },
    {
      "cell_type": "code",
      "source": [
        "df"
      ],
      "metadata": {
        "id": "iK8Yd9Pijeii"
      },
      "execution_count": null,
      "outputs": []
    },
    {
      "cell_type": "code",
      "source": [
        "df.info()"
      ],
      "metadata": {
        "id": "dB4v44q5kKVY"
      },
      "execution_count": null,
      "outputs": []
    },
    {
      "cell_type": "markdown",
      "source": [
        "#Uma Breve Série Temporal para analise do preço da bitcoin em relação ao tempo\n"
      ],
      "metadata": {
        "id": "ZTAW3Ev2kb6Q"
      }
    },
    {
      "cell_type": "code",
      "source": [
        "# Remover o símbolo de dólar ($) e quaisquer outros caracteres não numéricos da coluna de preços\n",
        "df['Price'] = df['Price'].str.replace(r'[^0-9.]+', '', regex=True)\n",
        "\n",
        "# Converter a coluna de preços para o tipo float\n",
        "df['Price'] = df['Price'].astype(float)\n",
        "\n",
        "# Agora podemos plotar o gráfico de linha temporal\n",
        "import matplotlib.pyplot as plt\n",
        "\n",
        "# Converter a coluna de data para o tipo datetime\n",
        "df['Date'] = pd.to_datetime(df['Date'])\n",
        "\n",
        "# Ordenar o DataFrame pela data (do mais antigo para o mais recente)\n",
        "df = df.sort_values(by='Date')\n",
        "\n",
        "# Plotar o gráfico de linha temporal\n",
        "plt.figure(figsize=(12, 6))\n",
        "plt.plot(df['Date'], df['Price'], marker='o', linestyle='-')\n",
        "plt.title('Tendência do Preço ao Longo do Tempo')\n",
        "plt.xlabel('Data')\n",
        "plt.ylabel('Preço')\n",
        "plt.grid(True)\n",
        "plt.xticks(rotation=45)\n",
        "plt.tight_layout()\n",
        "plt.show()\n"
      ],
      "metadata": {
        "id": "2DAT6CvWj7lC"
      },
      "execution_count": null,
      "outputs": []
    },
    {
      "cell_type": "markdown",
      "source": [
        "#Tentativas de conseguir exito por meio de requests"
      ],
      "metadata": {
        "id": "mEFXqapLlIzz"
      }
    },
    {
      "cell_type": "code",
      "source": [
        "import requests\n",
        "url = \"https://coinmarketcap.com/currencies/ethereum/historical-data/\"\n",
        "response = requests.get(url)\n",
        "if response.status_code == 200:\n",
        "    print(\"A solicitação foi bem-sucedida\")\n",
        "else:\n",
        "    print(\"Ocorreu um erro ao fazer a solicitação.\")\n"
      ],
      "metadata": {
        "id": "LwIUUHm1Sv4_"
      },
      "execution_count": null,
      "outputs": []
    },
    {
      "cell_type": "markdown",
      "source": [
        "#Procurando no html da pagina onde ficava o preco, e vasculhando onde cada div table e classe ficava, uma dentro da outra até chegar na tbody"
      ],
      "metadata": {
        "id": "DStKLBZ4nE0D"
      }
    },
    {
      "cell_type": "code",
      "source": [
        "table = soup.find(\"table\", {\"class\": \"cmc-table\"})\n",
        "if table:\n",
        "    rows = table.find_all(\"tr\")\n",
        "    # Continue o código para extrair os dados das linhas da tabela\n",
        "else:\n",
        "    print(\"Não foi possível encontrar a tabela.\")\n"
      ],
      "metadata": {
        "id": "mS_bICm4lU56"
      },
      "execution_count": null,
      "outputs": []
    },
    {
      "cell_type": "code",
      "source": [
        "# Encontrar a div que contém a tabela\n",
        "history_div = soup.find(\"div\", class_=\"history\")\n",
        "if history_div:\n",
        "    # Dentro da div \"history\", encontrar a div que contém a tabela\n",
        "    table_div = history_div.find(\"div\", class_=\"sc-4033ac70-2 gUDHzc\")\n",
        "    if table_div:\n",
        "        # Dentro da div da tabela, encontrar a tabela propriamente dita\n",
        "        table = table_div.find(\"table\")\n",
        "        if table:\n",
        "            # Dentro da tabela, encontrar todas as linhas\n",
        "            rows = table.find_all(\"tr\")\n",
        "            # Agora você pode continuar a extrair os dados das células das linhas\n",
        "        else:\n",
        "            print(\"Não foi possível encontrar a tabela.\")\n",
        "    else:\n",
        "        print(\"Não foi possível encontrar a div da tabela.\")\n",
        "else:\n",
        "    print(\"Não foi possível encontrar a div 'history'.\")\n"
      ],
      "metadata": {
        "id": "Y2GcuF2YlZ5f"
      },
      "execution_count": null,
      "outputs": []
    },
    {
      "cell_type": "code",
      "source": [
        "print(history_div)"
      ],
      "metadata": {
        "id": "cb_sfdDMldyv"
      },
      "execution_count": null,
      "outputs": []
    },
    {
      "cell_type": "code",
      "source": [
        "#grande pra caramba"
      ],
      "metadata": {
        "id": "Ucw90AuNoWDA"
      },
      "execution_count": null,
      "outputs": []
    },
    {
      "cell_type": "code",
      "source": [
        "# Encontrar a div \"history\" dentro do corpo da página\n",
        "history_div = soup.find(\"div\", class_=\"history\")\n",
        "if history_div:\n",
        "    # Dentro da div \"history\", encontrar a div que contém a tabela\n",
        "    table_div = history_div.find(\"div\", class_=\"sc-4033ac70-2\")\n",
        "    if table_div:\n",
        "        # Dentro da div da tabela, encontrar a tabela propriamente dita\n",
        "        table = table_div.find(\"table\")\n",
        "        if table:\n",
        "            # Dentro da tabela, encontrar todas as linhas\n",
        "            rows = table.find_all(\"tr\")\n",
        "            # Agora você pode continuar a extrair os dados das células das linhas\n",
        "        else:\n",
        "            print(\"Não foi possível encontrar a tabela.\")\n",
        "    else:\n",
        "        print(\"Não foi possível encontrar a div da tabela.\")\n",
        "else:\n",
        "    print(\"Não foi possível encontrar a div 'history' dentro do corpo da página.\")\n"
      ],
      "metadata": {
        "id": "qAMojSqoVHNl"
      },
      "execution_count": null,
      "outputs": []
    },
    {
      "cell_type": "code",
      "source": [
        "print(rows)"
      ],
      "metadata": {
        "id": "1ZrSmVDPlNnm"
      },
      "execution_count": null,
      "outputs": []
    },
    {
      "cell_type": "code",
      "source": [
        "#grande pra caramba"
      ],
      "metadata": {
        "id": "rSducxZAoYnx"
      },
      "execution_count": null,
      "outputs": []
    },
    {
      "cell_type": "markdown",
      "source": [
        "#Encontrando os dados finalmente"
      ],
      "metadata": {
        "id": "dQEnC-KDnPUi"
      }
    },
    {
      "cell_type": "code",
      "source": [
        "# Dentro da tabela, encontrar todas as linhas\n",
        "rows = table.find_all(\"tr\")\n",
        "\n",
        "# Lista para armazenar os dados da tabela\n",
        "dados_tabela = []\n",
        "\n",
        "# Iterar sobre as linhas, ignorando o cabeçalho\n",
        "for row in rows[1:]:\n",
        "    # Encontrar todas as células (colunas) nesta linha\n",
        "    cells = row.find_all(\"td\")\n",
        "\n",
        "    # Extrair o conteúdo de cada célula e adicioná-lo à lista de dados\n",
        "    if len(cells) >= 2:\n",
        "        produto = cells[0].text.strip()\n",
        "        preco = cells[1].text.strip()\n",
        "        dados_tabela.append((produto, preco))\n",
        "\n",
        "# Exibir os dados extraídos\n",
        "print(\"Dados da tabela:\")\n",
        "for produto, preco in dados_tabela:\n",
        "    print(f\"Produto: {produto}, Preço: {preco}\")\n"
      ],
      "metadata": {
        "id": "oCqFfdY6luRa"
      },
      "execution_count": null,
      "outputs": []
    },
    {
      "cell_type": "code",
      "source": [
        "import pandas as pd\n",
        "\n",
        "# Criar um DataFrame a partir dos dados extraídos\n",
        "df = pd.DataFrame(dados_tabela, columns=[\"Data\", \"Preco\"])\n",
        "\n",
        "# Exibir o DataFrame\n",
        "print(\"DataFrame:\")\n",
        "print(df)\n"
      ],
      "metadata": {
        "id": "F93yONrWl4UF"
      },
      "execution_count": null,
      "outputs": []
    },
    {
      "cell_type": "code",
      "source": [
        "df.info()"
      ],
      "metadata": {
        "id": "XN9UGG2il_fE"
      },
      "execution_count": null,
      "outputs": []
    },
    {
      "cell_type": "code",
      "source": [
        "import pandas as pd\n",
        "\n",
        "# Supondo que você tenha uma coluna de datas chamada \"Data\" no DataFrame df\n",
        "# Convertendo a coluna \"Data\" para o tipo datetime\n",
        "df[\"Data\"] = pd.to_datetime(df[\"Data\"])\n",
        "# Remover o símbolo de dólar ($) e quaisquer outros caracteres não numéricos da coluna de preços\n",
        "df['Preco'] = df['Preco'].str.replace(r'[^0-9.]+', '', regex=True)\n",
        "\n",
        "# Converter a coluna de preços para o tipo float\n",
        "df['Preco'] = df['Preco'].astype(float)\n",
        "\n",
        "# Exibir o DataFrame atualizado\n",
        "print(\"DataFrame com índice de data:\")\n",
        "print(df)\n"
      ],
      "metadata": {
        "id": "c3NiyowJmBVV"
      },
      "execution_count": null,
      "outputs": []
    },
    {
      "cell_type": "code",
      "source": [
        "# Agora podemos plotar o gráfico de linha temporal\n",
        "import matplotlib.pyplot as plt\n",
        "\n",
        "# Ordenar o DataFrame pela data (do mais antigo para o mais recente)\n",
        "df = df.sort_values(by='Data')\n",
        "\n",
        "# Plotar o gráfico de linha temporal\n",
        "plt.figure(figsize=(12, 6))\n",
        "plt.plot(df['Data'], df['Preco'], marker='o', linestyle='-')\n",
        "plt.title('Tendência do Preço ao Longo do Tempo')\n",
        "plt.xlabel('Data')\n",
        "plt.ylabel('Preço')\n",
        "plt.grid(True)\n",
        "plt.xticks(rotation=45)\n",
        "plt.tight_layout()\n",
        "plt.show()\n"
      ],
      "metadata": {
        "id": "68M26vSSmmfr"
      },
      "execution_count": null,
      "outputs": []
    }
  ],
  "metadata": {
    "colab": {
      "provenance": [],
      "authorship_tag": "ABX9TyMsf+wV4IPKJCQWpebsoxZj",
      "include_colab_link": true
    },
    "kernelspec": {
      "display_name": "Python 3",
      "name": "python3"
    },
    "language_info": {
      "name": "python"
    }
  },
  "nbformat": 4,
  "nbformat_minor": 0
}