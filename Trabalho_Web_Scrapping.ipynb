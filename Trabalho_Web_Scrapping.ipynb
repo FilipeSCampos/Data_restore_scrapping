{
  "nbformat": 4,
  "nbformat_minor": 0,
  "metadata": {
    "colab": {
      "provenance": [],
      "authorship_tag": "ABX9TyPmLTL+qSUJsu4yOEa5nfhv"
    },
    "kernelspec": {
      "name": "python3",
      "display_name": "Python 3"
    },
    "language_info": {
      "name": "python"
    }
  },
  "cells": [
    {
      "cell_type": "code",
      "source": [
        "import pandas as pd\n",
        "import requests\n",
        "from bs4 import BeautifulSoup\n",
        "from datetime import datetime, timedelta\n",
        "\n",
        "def extract_product_data(url):\n",
        "    # Faz uma solicitação GET para a página do produto\n",
        "    response = requests.get(url)\n",
        "    soup = BeautifulSoup(response.text, 'html.parser')\n",
        "\n",
        "    # Encontra o elemento que contém o preço do produto\n",
        "    price_element = soup.find('div', class_='ui-pdp-price__main-container')\n",
        "\n",
        "    # Extrai o preço do produto se o elemento existir\n",
        "    price = price_element.text.strip() if price_element else 'N/A'\n",
        "\n",
        "    # Retorna o preço do produto\n",
        "    return price\n",
        "\n",
        "def collect_data_over_three_years(url):\n",
        "    # Lista para armazenar os dados coletados\n",
        "    data = []\n",
        "\n",
        "    # Define a data de hoje como ponto de partida\n",
        "    current_date = datetime.now()\n",
        "\n",
        "    # Define a data final como três anos atrás\n",
        "    end_date = current_date - timedelta(days=3*365)\n",
        "\n",
        "    # Loop sobre os dias no intervalo de três anos\n",
        "    while current_date >= end_date:\n",
        "        # Formata a data no formato esperado na URL do Mercado Livre\n",
        "        formatted_date = current_date.strftime('%Y%m%d')\n",
        "\n",
        "        # Constrói a URL para a data atual\n",
        "        url_with_date = f'{url}&fecha=before:{formatted_date}'\n",
        "\n",
        "        # Extrai os dados do produto para a data atual\n",
        "        price = extract_product_data(url_with_date)\n",
        "\n",
        "        # Armazena os dados coletados\n",
        "        data.append({'Date': current_date.strftime('%Y-%m-%d'), 'Price': price})\n",
        "\n",
        "        # Atualiza a data atual para o dia anterior\n",
        "        current_date -= timedelta(days=1)\n",
        "\n",
        "    # Retorna os dados coletados\n",
        "    return data\n",
        "\n",
        "# URL do produto específico\n",
        "product_url = 'https://www.mercadolivre.com.br/apple-iphone-12-128-gb-preto-distribuidor-autorizado/p/MLB1016163653?pdp_filters=category:MLB1055#searchVariation=MLB1016163653&position=2&search_layout=stack&type=product&tracking_id=c4924474-adc2-4d25-86f1-85a9a9013149'\n",
        "\n",
        "# Coleta dados do produto ao longo de três anos\n",
        "product_data = collect_data_over_three_years(product_url)\n",
        "\n",
        "# Criar DataFrame a partir dos dados\n",
        "df = pd.DataFrame(product_data)\n",
        "\n",
        "# Salvar DataFrame em um arquivo CSV\n",
        "df.to_csv('product_prices.csv', index=False)\n",
        "\n",
        "print(\"Dados salvos em 'product_prices.csv'\")\n",
        "\n"
      ],
      "metadata": {
        "id": "ruyvyIVBTgUU"
      },
      "execution_count": null,
      "outputs": []
    },
    {
      "cell_type": "code",
      "source": [
        "# URL do produto específico\n",
        "product_url = 'https://www.mercadolivre.com.br/sony-playstation-4-pro-1tb-standard-cor-preto-onyx/p/MLB10695953?pdp_filters=category:MLB11172#searchVariation=MLB10695953&position=4&search_layout=grid&type=product&tracking_id=697f7bdc-fa79-4acd-b56d-ff2689afec49'\n",
        "\n",
        "# Coleta dados do produto ao longo de três anos\n",
        "product_data = collect_data_over_three_years(product_url)\n",
        "\n",
        "# Mostra os dados coletados\n",
        "for data_point in product_data:\n",
        "    print(f'Date: {data_point[\"Date\"]}, Price: {data_point[\"Price\"]}')"
      ],
      "metadata": {
        "id": "-rMougT6TgXP"
      },
      "execution_count": null,
      "outputs": []
    },
    {
      "cell_type": "code",
      "source": [],
      "metadata": {
        "id": "8Yz83TetTgaP"
      },
      "execution_count": null,
      "outputs": []
    },
    {
      "cell_type": "code",
      "source": [],
      "metadata": {
        "id": "eJgYuwY6Tgc9"
      },
      "execution_count": null,
      "outputs": []
    }
  ]
}